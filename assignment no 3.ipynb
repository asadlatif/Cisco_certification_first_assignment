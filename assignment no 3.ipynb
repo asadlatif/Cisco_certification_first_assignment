{
 "cells": [
  {
   "cell_type": "markdown",
   "metadata": {},
   "source": [
    "# Make a calculator using Python with addition , subtraction , multiplication , division and power. "
   ]
  },
  {
   "cell_type": "code",
   "execution_count": 4,
   "metadata": {},
   "outputs": [
    {
     "name": "stdout",
     "output_type": "stream",
     "text": [
      "Enter any number: 5\n",
      "enter second value: 5\n",
      "any any operator: like(+, -, *, /,)-\n",
      "your answer is: 0\n"
     ]
    }
   ],
   "source": [
    "user_input1 = int(input(\"Enter any number: \"))\n",
    "user_input2 = int(input(\"enter second value: \"))\n",
    "user_input3 = input(\"any any operator: like(+, -, *, /,) \")\n",
    "if user_input3 == \"+\":\n",
    "    print(f\"your answer is: {user_input1 + user_input2}\")\n",
    "elif user_input3 == \"-\":\n",
    "    print(f\"your answer is: {user_input1 - user_input2}\")\n",
    "elif user_input3 == \"*\":\n",
    "    print(f\"your answer is: {user_input1 * user_input2}\")\n",
    "elif user_input3 == \"/\":\n",
    "    print(f\"your answer is: {user_input1 / user_input2}\")"
   ]
  },
  {
   "cell_type": "markdown",
   "metadata": {},
   "source": [
    "#  Write a program to check if there is any numeric value in list using for loop"
   ]
  },
  {
   "cell_type": "code",
   "execution_count": 26,
   "metadata": {},
   "outputs": [
    {
     "name": "stdout",
     "output_type": "stream",
     "text": [
      " your list have 6 int values\n",
      " and your list have 2 values\n"
     ]
    }
   ],
   "source": [
    "lst = [1,2,5,5,4,7,\"a\",\"a\"]\n",
    "count = 0\n",
    "string = 0\n",
    "for a in lst:\n",
    "    if type(a) == int:\n",
    "        count += 1\n",
    "    else:\n",
    "        string += 1\n",
    "        \n",
    "print(f\" your list have {count} int values\")\n",
    "print(f\" and your list have {string} values\")"
   ]
  },
  {
   "cell_type": "markdown",
   "metadata": {},
   "source": [
    "# Write a Python script to add a key to a dictionary"
   ]
  },
  {
   "cell_type": "code",
   "execution_count": 34,
   "metadata": {},
   "outputs": [
    {
     "data": {
      "text/plain": [
       "{0: 0, 1: 1, 2: 2, 3: 3, 4: 4}"
      ]
     },
     "execution_count": 34,
     "metadata": {},
     "output_type": "execute_result"
    }
   ],
   "source": [
    "dic = {0:0, 1:1, 2:2, 3:3}\n",
    "dic.update({4:4})\n",
    "dic "
   ]
  },
  {
   "cell_type": "markdown",
   "metadata": {},
   "source": [
    "# Write a Python program to sum all the numeric items in a dictionary"
   ]
  },
  {
   "cell_type": "code",
   "execution_count": 24,
   "metadata": {},
   "outputs": [
    {
     "name": "stdout",
     "output_type": "stream",
     "text": [
      "15\n"
     ]
    }
   ],
   "source": [
    "dic_new = {\"one\": 1 , \"two\": 2, \"three\": 3, \"four\": 4, \"five\": 5}\n",
    "print(sum(dic_new.values()))"
   ]
  },
  {
   "cell_type": "markdown",
   "metadata": {},
   "source": [
    "# Write a program to identify duplicate values from list"
   ]
  },
  {
   "cell_type": "code",
   "execution_count": 28,
   "metadata": {},
   "outputs": [
    {
     "name": "stdout",
     "output_type": "stream",
     "text": [
      "after removing all dublicates [2, 5, 8, 7, 0, 1, 10, 22]\n"
     ]
    }
   ],
   "source": [
    "#write a program which can remove duplicates\n",
    "lst = [2,2,5,8,8,8,8,7,0,1,0, 10,22]\n",
    "b = []\n",
    "for a in lst:\n",
    "    if a not in b:\n",
    "        b.append(a)\n",
    "print(f\"after removing all dublicates {b}\")"
   ]
  },
  {
   "cell_type": "markdown",
   "metadata": {},
   "source": [
    "# check the given key is already in dictionary or not"
   ]
  },
  {
   "cell_type": "code",
   "execution_count": 17,
   "metadata": {},
   "outputs": [
    {
     "name": "stdout",
     "output_type": "stream",
     "text": [
      "yes it is already exist in dictionary\n",
      "sorry your key is not included\n"
     ]
    }
   ],
   "source": [
    "dic = {0:\"employee\" , 1 : \"CEO\" , 2: \"Editor\" , 3: \"programmer\"}\n",
    "def if_key_exist(x):\n",
    "    if x in dic:\n",
    "        print(\"yes it is already exist in dictionary\")\n",
    "    else:\n",
    "        print(\"sorry your key is not included\")\n",
    "if_key_exist(0)\n",
    "if_key_exist(4)"
   ]
  },
  {
   "cell_type": "code",
   "execution_count": null,
   "metadata": {},
   "outputs": [],
   "source": []
  }
 ],
 "metadata": {
  "kernelspec": {
   "display_name": "Python 3",
   "language": "python",
   "name": "python3"
  },
  "language_info": {
   "codemirror_mode": {
    "name": "ipython",
    "version": 3
   },
   "file_extension": ".py",
   "mimetype": "text/x-python",
   "name": "python",
   "nbconvert_exporter": "python",
   "pygments_lexer": "ipython3",
   "version": "3.7.3"
  }
 },
 "nbformat": 4,
 "nbformat_minor": 2
}
