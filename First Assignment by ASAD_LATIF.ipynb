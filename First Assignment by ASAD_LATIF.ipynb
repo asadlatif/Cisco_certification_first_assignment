{
 "cells": [
  {
   "cell_type": "markdown",
   "metadata": {},
   "source": [
    "# 1 solution (Specific format)"
   ]
  },
  {
   "cell_type": "code",
   "execution_count": 1,
   "metadata": {},
   "outputs": [
    {
     "name": "stdout",
     "output_type": "stream",
     "text": [
      "Twinkle, twinkle, little star,\n",
      "                  How I wonder what you are!\n",
      "                            Up above the world so hign,\n",
      "                            Like a diamond in the sky.\n",
      "           Twinkle, twinkle, little star,\n",
      "                   How I wonder what you are\n"
     ]
    }
   ],
   "source": [
    "print(\"\"\"Twinkle, twinkle, little star,\n",
    "                  How I wonder what you are!\n",
    "                            Up above the world so hign,\n",
    "                            Like a diamond in the sky.\n",
    "           Twinkle, twinkle, little star,\n",
    "                   How I wonder what you are\"\"\")"
   ]
  },
  {
   "cell_type": "markdown",
   "metadata": {},
   "source": [
    "# 2. Python version"
   ]
  },
  {
   "cell_type": "code",
   "execution_count": 5,
   "metadata": {},
   "outputs": [
    {
     "name": "stdout",
     "output_type": "stream",
     "text": [
      "3.7.3 (default, Apr 24 2019, 15:29:51) [MSC v.1915 64 bit (AMD64)]\n"
     ]
    }
   ],
   "source": [
    "import sys\n",
    "print(sys.version)"
   ]
  },
  {
   "cell_type": "markdown",
   "metadata": {},
   "source": [
    "# 3. Current time\n"
   ]
  },
  {
   "cell_type": "code",
   "execution_count": 4,
   "metadata": {},
   "outputs": [
    {
     "name": "stdout",
     "output_type": "stream",
     "text": [
      "time.struct_time(tm_year=2019, tm_mon=11, tm_mday=6, tm_hour=3, tm_min=40, tm_sec=36, tm_wday=2, tm_yday=310, tm_isdst=0)\n"
     ]
    }
   ],
   "source": [
    "import time\n",
    "print(time.localtime())"
   ]
  },
  {
   "cell_type": "markdown",
   "metadata": {},
   "source": [
    "# 4. calculate the radius circle "
   ]
  },
  {
   "cell_type": "code",
   "execution_count": 9,
   "metadata": {},
   "outputs": [
    {
     "name": "stdout",
     "output_type": "stream",
     "text": [
      "please enter any number: 5\n",
      "you entered a number: 5.0 \n",
      " the answer after calculation is: 78.5\n"
     ]
    }
   ],
   "source": [
    "pi = 3.14\n",
    "user = float(input(\"please enter any number: \"))\n",
    "b= pi * user**2\n",
    "print(f\"you entered a number: {user} \\n the answer after calculation is: {b}\" )"
   ]
  },
  {
   "cell_type": "markdown",
   "metadata": {},
   "source": [
    "# number 5"
   ]
  },
  {
   "cell_type": "code",
   "execution_count": 26,
   "metadata": {},
   "outputs": [
    {
     "name": "stdout",
     "output_type": "stream",
     "text": [
      "please enter your first name Asad \n",
      "please enter your last name latif\n",
      "latif Asad \n"
     ]
    }
   ],
   "source": [
    "input_1 = input(\"please enter your first name \")\n",
    "input_2 = input(\"please enter your last name \")\n",
    "rverse = input_2 + \" \" + input_1\n",
    "print(rverse)"
   ]
  },
  {
   "cell_type": "markdown",
   "metadata": {},
   "source": [
    "# number 6"
   ]
  },
  {
   "cell_type": "code",
   "execution_count": 25,
   "metadata": {},
   "outputs": [
    {
     "name": "stdout",
     "output_type": "stream",
     "text": [
      "please enter any number 2\n",
      "now enter any second value to see the sum result2\n",
      "you enterd first value is: 2 & second value is 2 and the sum of these num is : 4\n"
     ]
    }
   ],
   "source": [
    "num_1 = int(input(\"please enter any number \"))\n",
    "num_2 = int(input(\"now enter any second value to see the sum result\"))\n",
    "result = num_1 + num_2\n",
    "print(f\"you enterd first value is: {num_1} & second value is {num_2} and the sum of these num is : {result}\")"
   ]
  },
  {
   "cell_type": "markdown",
   "metadata": {},
   "source": []
  },
  {
   "cell_type": "code",
   "execution_count": null,
   "metadata": {},
   "outputs": [],
   "source": []
  }
 ],
 "metadata": {
  "kernelspec": {
   "display_name": "Python 3",
   "language": "python",
   "name": "python3"
  },
  "language_info": {
   "codemirror_mode": {
    "name": "ipython",
    "version": 3
   },
   "file_extension": ".py",
   "mimetype": "text/x-python",
   "name": "python",
   "nbconvert_exporter": "python",
   "pygments_lexer": "ipython3",
   "version": "3.7.3"
  }
 },
 "nbformat": 4,
 "nbformat_minor": 2
}
