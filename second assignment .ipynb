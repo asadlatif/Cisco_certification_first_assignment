{
 "cells": [
  {
   "cell_type": "code",
   "execution_count": 3,
   "metadata": {},
   "outputs": [
    {
     "name": "stdout",
     "output_type": "stream",
     "text": [
      "====================\n",
      "Welcome to your marksheet\n",
      "====================\n",
      "Enter English numbers: 10\n",
      "Enter Math numbers: 10\n",
      "Enter Urdu numbers: 11\n",
      "Enter Computer numbers: 10\n",
      "Enter Islamiat numbers: 20\n",
      "Sorry you fail..\n"
     ]
    }
   ],
   "source": [
    "print(\"====================\")\n",
    "print(\"Welcome to your marksheet\")\n",
    "print(\"====================\")\n",
    "eng = int(input(\"Enter English numbers: \"))\n",
    "math = int(input(\"Enter Math numbers: \"))\n",
    "urdu = int(input(\"Enter Urdu numbers: \"))\n",
    "com = int(input(\"Enter Computer numbers: \"))\n",
    "isl = int(input(\"Enter Islamiat numbers: \"))\n",
    "total = 500\n",
    "obt = eng + math + urdu + com + isl\n",
    "#divide the total scores with the marks obtained and then multiply the result with 100.\n",
    "per =(obt / total) * 100\n",
    "if per >= 80:\n",
    "    print(f\"Congratulation you secure {obt} marks and your percentage is: {per} your grade is A\")\n",
    "elif per >= 70:\n",
    "    print(f\"Congratulation you secure {obt} marks and your percentage is: {per} your grade is B\")\n",
    "elif per >= 60:\n",
    "    print(f\"Congratulation you secure {obt} marks and your percentage is: {per} your grade is C\")\n",
    "else:\n",
    "    print(\"Sorry you fail..\")\n",
    "\n"
   ]
  },
  {
   "cell_type": "code",
   "execution_count": 14,
   "metadata": {},
   "outputs": [
    {
     "name": "stdout",
     "output_type": "stream",
     "text": [
      "enter any integer 6\n",
      "your number is even\n"
     ]
    }
   ],
   "source": [
    "a= int(input(\"enter any integer \"))\n",
    "q = a % 2\n",
    "if q == 0:\n",
    "    print(\"your number is even\")\n",
    "else:\n",
    "    print(\"The value is odd\")"
   ]
  },
  {
   "cell_type": "code",
   "execution_count": 12,
   "metadata": {},
   "outputs": [
    {
     "name": "stdout",
     "output_type": "stream",
     "text": [
      "9\n"
     ]
    }
   ],
   "source": [
    "lst = [1,2,3,4,5,6,7,8,9,]\n",
    "print(len(lst))"
   ]
  },
  {
   "cell_type": "code",
   "execution_count": 21,
   "metadata": {},
   "outputs": [
    {
     "name": "stdout",
     "output_type": "stream",
     "text": [
      "50\n"
     ]
    }
   ],
   "source": [
    "lst1 = [10,10,10,10,10]\n",
    "b = []\n",
    "for a in lst1:\n",
    "    b.append(a)\n",
    "print(sum(b))"
   ]
  },
  {
   "cell_type": "code",
   "execution_count": 22,
   "metadata": {},
   "outputs": [
    {
     "name": "stdout",
     "output_type": "stream",
     "text": [
      "90\n"
     ]
    }
   ],
   "source": [
    "lst2 = [5,88,44,1,2,90,1,2,4]\n",
    "Max = []\n",
    "for a in lst2:\n",
    "    Max.append(a)\n",
    "print(max(Max))"
   ]
  },
  {
   "cell_type": "code",
   "execution_count": 26,
   "metadata": {},
   "outputs": [
    {
     "name": "stdout",
     "output_type": "stream",
     "text": [
      "1\n",
      "1\n",
      "1\n",
      "4\n",
      "1\n",
      "4\n",
      "2\n"
     ]
    }
   ],
   "source": [
    "lst3 = [5,7,1,44,55,1,1,4,1,55,4,5,2,5,5454,5]\n",
    "for a in lst3:\n",
    "    if a < 5:\n",
    "        print(a)\n",
    "    "
   ]
  },
  {
   "cell_type": "code",
   "execution_count": null,
   "metadata": {},
   "outputs": [],
   "source": []
  }
 ],
 "metadata": {
  "kernelspec": {
   "display_name": "Python 3",
   "language": "python",
   "name": "python3"
  },
  "language_info": {
   "codemirror_mode": {
    "name": "ipython",
    "version": 3
   },
   "file_extension": ".py",
   "mimetype": "text/x-python",
   "name": "python",
   "nbconvert_exporter": "python",
   "pygments_lexer": "ipython3",
   "version": "3.7.3"
  }
 },
 "nbformat": 4,
 "nbformat_minor": 2
}
