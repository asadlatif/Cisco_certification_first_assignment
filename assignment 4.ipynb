{
 "cells": [
  {
   "cell_type": "markdown",
   "metadata": {},
   "source": [
    "# Question1:\n",
    "Use a dictionary to store information about a person you know. Store their first name, last name, age, and the city \n",
    "in which they live. You should have keys such as first_name, last_name, age, and city. Print each piece of information \n",
    "stored in your dictionary. Add a new key value pair about qualification then update the qualification value to high academic \n",
    "level then delete it.\n"
   ]
  },
  {
   "cell_type": "code",
   "execution_count": 1,
   "metadata": {},
   "outputs": [
    {
     "name": "stdout",
     "output_type": "stream",
     "text": [
      "{'first_name': 'Asad', 'last_name': 'Latif', 'age': 25, 'city': 'Karachi'}\n"
     ]
    }
   ],
   "source": [
    "information = {\"first_name\": \"Asad\", \"last_name\": \"Latif\", \"age\": 25, \"city\": \"Karachi\"}\n",
    "# printing each piece of information in dictionary\n",
    "print(information)"
   ]
  },
  {
   "cell_type": "code",
   "execution_count": 2,
   "metadata": {},
   "outputs": [
    {
     "data": {
      "text/plain": [
       "{'first_name': 'Asad',\n",
       " 'last_name': 'Latif',\n",
       " 'age': 25,\n",
       " 'city': 'Karachi',\n",
       " 'Qualification': 'Intermediate'}"
      ]
     },
     "execution_count": 2,
     "metadata": {},
     "output_type": "execute_result"
    }
   ],
   "source": [
    "information[\"Qualification\"] = \"Intermediate\"\n",
    "# updating key with qualification \n",
    "information"
   ]
  },
  {
   "cell_type": "code",
   "execution_count": 5,
   "metadata": {},
   "outputs": [
    {
     "data": {
      "text/plain": [
       "{'first_name': 'Asad', 'last_name': 'Latif', 'age': 25, 'city': 'Karachi'}"
      ]
     },
     "execution_count": 5,
     "metadata": {},
     "output_type": "execute_result"
    }
   ],
   "source": [
    "del information['Qualification']\n",
    "# deleting key with del function\n",
    "print(information)"
   ]
  },
  {
   "cell_type": "markdown",
   "metadata": {},
   "source": [
    "# Question2:\n",
    "Make a dictionary called cities. Use the names of three cities as keys in your dictionary. Create a dictionary of information\n",
    "about each city and include the country that the city is in, its approximate population, and one fact about that city. \n",
    "The keys for each city’s dictionary should be something like country, population, and fact. Print the name of each city and all\n",
    "of the information you have stored about it.\n"
   ]
  },
  {
   "cell_type": "code",
   "execution_count": 2,
   "metadata": {},
   "outputs": [
    {
     "data": {
      "text/plain": [
       "{'Karachi': 'karachi is the city of Pakistan, 25 crore, The city have shrine of Quaid e Azam',\n",
       " 'Lahore': '20 crore population, the city have babri mosque',\n",
       " 'Islamabad': '20, The city is beautyful '}"
      ]
     },
     "execution_count": 2,
     "metadata": {},
     "output_type": "execute_result"
    }
   ],
   "source": [
    "cities = {\"Karachi\": \"karachi is the city of Pakistan, 25 crore, The city have shrine of Quaid e Azam\" ,\"Lahore\": \"20 crore population, the city have babri mosque\" ,\"Islamabad\": \"20, The city is beautyful \"}\n",
    "cities"
   ]
  },
  {
   "cell_type": "markdown",
   "metadata": {},
   "source": [
    "# Question3:\n",
    "A movie theater charges different ticket prices depending on a person’s age. If a person is under the age of 3, \n",
    "the ticket is free; if they are between 3 and 12, the ticket is $10; and if they are over age 12, the ticket is $15. \n",
    "Write a loop in which you ask users their age, and then tell them the cost of their movie ticket.\n"
   ]
  },
  {
   "cell_type": "code",
   "execution_count": 14,
   "metadata": {},
   "outputs": [
    {
     "name": "stdout",
     "output_type": "stream",
     "text": [
      "Please enter your age: 15\n",
      "your ticket charges is $15\n"
     ]
    }
   ],
   "source": [
    "age = int(input(\"Please enter your age: \"))\n",
    "if age < 3:\n",
    "    print(\"Welcome!! your entry is free\")\n",
    "elif age>3 and age<12:\n",
    "    print(\"your ticket charges is $10\")\n",
    "elif age >12:\n",
    "    print(\"your ticket charges is $15\")"
   ]
  },
  {
   "cell_type": "code",
   "execution_count": null,
   "metadata": {},
   "outputs": [],
   "source": []
  },
  {
   "cell_type": "markdown",
   "metadata": {},
   "source": [
    "# Question4:\n",
    "Write a function called favorite_book() that accepts one parameter, title. The function should print a message, \n",
    "such as One of my favorite books is Alice in Wonderland. Call the function, making sure to include a book title as an argument \n",
    "in the function call.\n"
   ]
  },
  {
   "cell_type": "code",
   "execution_count": 16,
   "metadata": {},
   "outputs": [
    {
     "name": "stdout",
     "output_type": "stream",
     "text": [
      "my favorite books is Alice in Wonderland\n"
     ]
    }
   ],
   "source": [
    "def favorite_book(title):\n",
    "    return \"my favorite books is \"+title\n",
    "\n",
    "print(favorite_book(\"Alice in Wonderland\"))"
   ]
  },
  {
   "cell_type": "code",
   "execution_count": null,
   "metadata": {},
   "outputs": [],
   "source": []
  },
  {
   "cell_type": "markdown",
   "metadata": {},
   "source": [
    "# Question5:\n",
    "Guess the number game\n",
    "Write a program which randomly generate a number between 1 to 30 and ask the user in input field to guess the correct number. \n",
    "Give three chances to user guess the number and also give hint to user if hidden number is greater or smaller than the number \n",
    "he given to input field.\n"
   ]
  },
  {
   "cell_type": "code",
   "execution_count": 8,
   "metadata": {},
   "outputs": [
    {
     "name": "stdout",
     "output_type": "stream",
     "text": [
      "guess any number 5\n",
      "guess any number 8\n",
      "guess any number 1\n",
      "try again you fail\n",
      "right answer is 29\n"
     ]
    }
   ],
   "source": [
    "# for generate random number importing a library\n",
    "import random \n",
    "generate_num = random.randint(1,30)\n",
    "guess_limit = 0\n",
    "while guess_limit < 3:\n",
    "    guess = int(input(\"guess any number \"))\n",
    "    guess_limit+= 1\n",
    "    if guess == generate_num:\n",
    "        print(\"you win\")\n",
    "        break\n",
    "else:\n",
    "    print(\"try again you fail\")\n",
    "    print(\"right answer is \"+str(generate_num))"
   ]
  },
  {
   "cell_type": "code",
   "execution_count": null,
   "metadata": {},
   "outputs": [],
   "source": []
  },
  {
   "cell_type": "code",
   "execution_count": null,
   "metadata": {},
   "outputs": [],
   "source": []
  }
 ],
 "metadata": {
  "kernelspec": {
   "display_name": "Python 3",
   "language": "python",
   "name": "python3"
  },
  "language_info": {
   "codemirror_mode": {
    "name": "ipython",
    "version": 3
   },
   "file_extension": ".py",
   "mimetype": "text/x-python",
   "name": "python",
   "nbconvert_exporter": "python",
   "pygments_lexer": "ipython3",
   "version": "3.7.3"
  }
 },
 "nbformat": 4,
 "nbformat_minor": 2
}
